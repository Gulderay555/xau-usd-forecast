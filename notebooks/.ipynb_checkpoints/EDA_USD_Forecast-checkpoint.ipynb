{
 "cells": [
  {
   "cell_type": "markdown",
   "id": "43ff8c75",
   "metadata": {},
   "source": [
    "\n",
    "# USD Time Series — EDA & Forecast\n",
    "\n",
    "**Goal:** Explore and model the daily USD exchange rate to predict the next-day value.  \n",
    "Dataset: `Daily.csv` (1978—2025, daily granularities; multiple currencies; we will focus on **USD**).\n",
    "\n",
    "**Deliverables for the project:**\n",
    "- EDA (quality checks, trends, seasonality, correlations)\n",
    "- Feature engineering (lags, moving averages, calendar features)\n",
    "- Time-aware train/test split\n",
    "- Modeling (baseline + tree-based)\n",
    "- Metrics (MAE, RMSE, MAPE) and forecast vs actuals\n",
    "- Ideas for monitoring & drift analysis\n"
   ]
  },
  {
   "cell_type": "code",
   "execution_count": null,
   "id": "8591bd52",
   "metadata": {},
   "outputs": [],
   "source": [
    "\n",
    "import pandas as pd\n",
    "import numpy as np\n",
    "import matplotlib.pyplot as plt\n",
    "\n",
    "from sklearn.model_selection import TimeSeriesSplit\n",
    "from sklearn.linear_model import LinearRegression\n",
    "from sklearn.ensemble import RandomForestRegressor\n",
    "from sklearn.metrics import mean_absolute_error, mean_squared_error\n",
    "\n",
    "from pathlib import Path\n",
    "import warnings\n",
    "warnings.filterwarnings('ignore')\n"
   ]
  },
  {
   "cell_type": "markdown",
   "id": "d9962ddc",
   "metadata": {},
   "source": [
    "## Load & Inspect Data"
   ]
  },
  {
   "cell_type": "code",
   "execution_count": null,
   "id": "c7cae774",
   "metadata": {},
   "outputs": [],
   "source": [
    "\n",
    "DATA_PATH = Path(\"../data/Daily.csv\")\n",
    "\n",
    "# читаем данные(загружаем)\n",
    "df_raw = pd.read_csv(DATA_PATH)\n",
    "print(df_raw.shape)\n",
    "df_raw.head()\n"
   ]
  },
  {
   "cell_type": "markdown",
   "id": "10e864b5",
   "metadata": {},
   "source": [
    "## Cleaning & Type Conversions"
   ]
  },
  {
   "cell_type": "code",
   "execution_count": null,
   "id": "5b93f860",
   "metadata": {},
   "outputs": [],
   "source": [
    "\n",
    "df = df_raw.copy()\n",
    "\n",
    "# Parse dates — dataset examples look like MM/DD/YYYY\n",
    "df['Date'] = pd.to_datetime(df['Date'], errors='coerce', infer_datetime_format=True)\n",
    "\n",
    "# Identify numeric columns (currencies) excluding Date\n",
    "num_cols = [c for c in df.columns if c != 'Date']\n",
    "\n",
    "# Remove thousands separators (',') then convert to float\n",
    "for c in num_cols:\n",
    "    df[c] = pd.to_numeric(df[c].astype(str).str.replace(',', ''), errors='coerce')\n",
    "\n",
    "# Sort by date and drop duplicates\n",
    "df = df.drop_duplicates(subset=['Date']).sort_values('Date').reset_index(drop=True)\n",
    "\n",
    "# Keep only rows with at least USD present for our target\n",
    "df = df[~df['USD'].isna()].copy()\n",
    "\n",
    "print(df.dtypes)\n",
    "df.describe(include='all').T\n"
   ]
  },
  {
   "cell_type": "markdown",
   "id": "a7171dcb",
   "metadata": {},
   "source": [
    "## EDA: Missingness & Basic Statistics"
   ]
  },
  {
   "cell_type": "code",
   "execution_count": null,
   "id": "90e325a4",
   "metadata": {},
   "outputs": [],
   "source": [
    "\n",
    "missing_summary = df.isna().mean().sort_values(ascending=False)\n",
    "missing_summary\n"
   ]
  },
  {
   "cell_type": "code",
   "execution_count": null,
   "id": "3715c785",
   "metadata": {},
   "outputs": [],
   "source": [
    "\n",
    "# Plot USD over time\n",
    "plt.figure(figsize=(12,4))\n",
    "plt.plot(df['Date'], df['USD'])\n",
    "plt.title('USD over time')\n",
    "plt.xlabel('Date')\n",
    "plt.ylabel('USD')\n",
    "plt.show()\n"
   ]
  },
  {
   "cell_type": "code",
   "execution_count": null,
   "id": "28cff71d",
   "metadata": {},
   "outputs": [],
   "source": [
    "\n",
    "# Calendar features for exploratory grouping\n",
    "df['year'] = df['Date'].dt.year\n",
    "df['month'] = df['Date'].dt.month\n",
    "df['dayofweek'] = df['Date'].dt.dayofweek\n",
    "\n",
    "# Yearly overview (mean USD)\n",
    "yearly = df.groupby('year', as_index=False)['USD'].mean()\n",
    "plt.figure(figsize=(12,4))\n",
    "plt.plot(yearly['year'], yearly['USD'])\n",
    "plt.title('Yearly mean USD')\n",
    "plt.xlabel('Year')\n",
    "plt.ylabel('Mean USD')\n",
    "plt.show()\n"
   ]
  },
  {
   "cell_type": "markdown",
   "id": "b4ddfc02",
   "metadata": {},
   "source": [
    "## Seasonal Decomposition (optional)"
   ]
  },
  {
   "cell_type": "code",
   "execution_count": null,
   "id": "e7b76fe9",
   "metadata": {},
   "outputs": [],
   "source": [
    "\n",
    "try:\n",
    "    from statsmodels.tsa.seasonal import seasonal_decompose\n",
    "    # Ensure regular frequency\n",
    "    df_ts = df.set_index('Date').asfreq('D')\n",
    "    # Forward fill gaps for decomposition\n",
    "    df_ts['USD'] = df_ts['USD'].ffill()\n",
    "    result = seasonal_decompose(df_ts['USD'], model='additive', period=365)\n",
    "    result.plot()\n",
    "    plt.show()\n",
    "except Exception as e:\n",
    "    print('Decomposition skipped:', e)\n"
   ]
  },
  {
   "cell_type": "markdown",
   "id": "40bc328d",
   "metadata": {},
   "source": [
    "## Feature Engineering"
   ]
  },
  {
   "cell_type": "code",
   "execution_count": null,
   "id": "73b6fe29",
   "metadata": {},
   "outputs": [],
   "source": [
    "\n",
    "work = df.copy()\n",
    "\n",
    "# Lag features\n",
    "for lag in [1, 3, 7, 14, 30]:\n",
    "    work[f'USD_lag_{lag}'] = work['USD'].shift(lag)\n",
    "\n",
    "# Moving averages\n",
    "for win in [3, 7, 14, 30]:\n",
    "    work[f'USD_ma_{win}'] = work['USD'].rolling(window=win, min_periods=1).mean()\n",
    "\n",
    "# Calendar features already present\n",
    "# Drop early rows with NaNs after lagging\n",
    "work = work.dropna().reset_index(drop=True)\n",
    "\n",
    "feature_cols = [c for c in work.columns if c not in ['USD', 'Date']]\n",
    "X = work[feature_cols]\n",
    "y = work['USD']\n",
    "\n",
    "X.shape, y.shape\n"
   ]
  },
  {
   "cell_type": "markdown",
   "id": "86ff9168",
   "metadata": {},
   "source": [
    "## Train/Test Split (Time Aware)"
   ]
  },
  {
   "cell_type": "code",
   "execution_count": null,
   "id": "71f70b2d",
   "metadata": {},
   "outputs": [],
   "source": [
    "\n",
    "# Use last ~3 years for test\n",
    "last_date = work['Date'].max()\n",
    "test_start = last_date - pd.Timedelta(days=365*3)\n",
    "\n",
    "train_idx = work['Date'] < test_start\n",
    "test_idx  = work['Date'] >= test_start\n",
    "\n",
    "X_train, y_train = X[train_idx], y[train_idx]\n",
    "X_test,  y_test  = X[test_idx], y[test_idx]\n",
    "\n",
    "print('Train range:', work.loc[train_idx, 'Date'].min(), '→', work.loc[train_idx, 'Date'].max(), len(X_train))\n",
    "print('Test  range:', work.loc[test_idx, 'Date'].min(),  '→', work.loc[test_idx, 'Date'].max(),  len(X_test))\n"
   ]
  },
  {
   "cell_type": "markdown",
   "id": "7300fa94",
   "metadata": {},
   "source": [
    "## Modeling: Baselines (Linear Regression, Random Forest)"
   ]
  },
  {
   "cell_type": "code",
   "execution_count": null,
   "id": "1f7f9be2",
   "metadata": {},
   "outputs": [],
   "source": [
    "\n",
    "models = {}\n",
    "\n",
    "# Linear Regression\n",
    "lin = LinearRegression()\n",
    "lin.fit(X_train, y_train)\n",
    "models['LinearRegression'] = lin\n",
    "\n",
    "# Random Forest\n",
    "rf = RandomForestRegressor(\n",
    "    n_estimators=300,\n",
    "    max_depth=None,\n",
    "    random_state=42,\n",
    "    n_jobs=-1\n",
    ")\n",
    "rf.fit(X_train, y_train)\n",
    "models['RandomForest'] = rf\n",
    "\n",
    "# Evaluate\n",
    "def mape(y_true, y_pred):\n",
    "    y_true, y_pred = np.array(y_true), np.array(y_pred)\n",
    "    eps = 1e-9\n",
    "    return np.mean(np.abs((y_true - y_pred) / (y_true + eps))) * 100\n",
    "\n",
    "results = []\n",
    "for name, model in models.items():\n",
    "    pred = model.predict(X_test)\n",
    "    mae = mean_absolute_error(y_test, pred)\n",
    "    rmse = mean_squared_error(y_test, pred, squared=False)\n",
    "    mp = mape(y_test, pred)\n",
    "    results.append({'model': name, 'MAE': mae, 'RMSE': rmse, 'MAPE_%': mp})\n",
    "\n",
    "res_df = pd.DataFrame(results).sort_values('RMSE')\n",
    "res_df\n"
   ]
  },
  {
   "cell_type": "markdown",
   "id": "5c6bef81",
   "metadata": {},
   "source": [
    "## Predictions vs Actuals (Test Period)"
   ]
  },
  {
   "cell_type": "code",
   "execution_count": null,
   "id": "b432e20f",
   "metadata": {},
   "outputs": [],
   "source": [
    "\n",
    "best_model_name = res_df.iloc[0]['model']\n",
    "best_model = models[best_model_name]\n",
    "pred = best_model.predict(X_test)\n",
    "\n",
    "plot_df = work.loc[test_idx, ['Date', 'USD']].copy()\n",
    "plot_df['Pred'] = pred\n",
    "\n",
    "plt.figure(figsize=(12,4))\n",
    "plt.plot(plot_df['Date'], plot_df['USD'], label='Actual')\n",
    "plt.plot(plot_df['Date'], plot_df['Pred'], label='Predicted')\n",
    "plt.title(f'USD — Actual vs Predicted ({best_model_name})')\n",
    "plt.xlabel('Date')\n",
    "plt.ylabel('USD')\n",
    "plt.legend()\n",
    "plt.show()\n"
   ]
  },
  {
   "cell_type": "markdown",
   "id": "a7654d32",
   "metadata": {},
   "source": [
    "## One-step Ahead Forecast (Naive Demo)"
   ]
  },
  {
   "cell_type": "code",
   "execution_count": null,
   "id": "14741175",
   "metadata": {},
   "outputs": [],
   "source": [
    "\n",
    "# Take the last available row to forecast the next day\n",
    "last_row = work.iloc[-1:].copy()\n",
    "\n",
    "# Simulate next-day features\n",
    "next_date = last_row['Date'].iloc[0] + pd.Timedelta(days=1)\n",
    "# Recompute lag features using last known USD\n",
    "# Since we already have all lags in 'last_row', we'll keep them\n",
    "next_features = last_row.drop(columns=['USD', 'Date']).copy()\n",
    "\n",
    "next_pred = best_model.predict(next_features)[0]\n",
    "print('Last date:', last_row['Date'].iloc[0].date())\n",
    "print('Next date (forecast):', next_date.date())\n",
    "print('Forecasted USD:', float(next_pred))\n"
   ]
  },
  {
   "cell_type": "markdown",
   "id": "41b328af",
   "metadata": {},
   "source": [
    "## Data Drift & Stability (Optional — Evidently)"
   ]
  },
  {
   "cell_type": "code",
   "execution_count": null,
   "id": "dc39a77e",
   "metadata": {},
   "outputs": [],
   "source": [
    "\n",
    "try:\n",
    "    from evidently.report import Report\n",
    "    from evidently.metric_preset import DataDriftPreset\n",
    "    ref = work[work['Date'] < work['Date'].max() - pd.Timedelta(days=365*3)].copy()\n",
    "    cur = work[work['Date'] >= work['Date'].max() - pd.Timedelta(days=365*3)].copy()\n",
    "\n",
    "    # Use features only for drift; avoid target leakage\n",
    "    ref_X = ref.drop(columns=['USD', 'Date'])\n",
    "    cur_X = cur.drop(columns=['USD', 'Date'])\n",
    "\n",
    "    report = Report(metrics=[DataDriftPreset()])\n",
    "    report.run(reference_data=ref_X, current_data=cur_X)\n",
    "    report_path = '/mnt/data/evidently_drift_report.html'\n",
    "    report.save_html(report_path)\n",
    "    print('Drift report saved to:', report_path)\n",
    "except Exception as e:\n",
    "    print('Evidently not installed or failed:', e)\n"
   ]
  },
  {
   "cell_type": "markdown",
   "id": "5b238678",
   "metadata": {},
   "source": [
    "\n",
    "## Conclusions & Next Steps\n",
    "- We explored long-term trends, seasonality and calendar effects for USD.\n",
    "- Baseline models (Linear Regression, Random Forest) provide a benchmark.\n",
    "- Best model (by RMSE) is plotted against the test period.\n",
    "- Next steps:\n",
    "  - Hyperparameter tuning (RandomizedSearchCV/GridSearchCV)\n",
    "  - Try gradient boosting (XGBoost/CatBoost) or Prophet/LSTM\n",
    "  - Add exogenous features (other currencies, macro indicators)\n",
    "  - Integrate Evidently into a monitoring pipeline\n"
   ]
  }
 ],
 "metadata": {
  "language_info": {
   "name": "python"
  }
 },
 "nbformat": 4,
 "nbformat_minor": 5
}
